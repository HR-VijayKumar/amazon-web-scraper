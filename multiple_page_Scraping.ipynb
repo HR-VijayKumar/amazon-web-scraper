{
 "cells": [
  {
   "cell_type": "code",
   "execution_count": 57,
   "id": "e0356b0c-02dc-4cf8-89de-8f09df4ed627",
   "metadata": {},
   "outputs": [],
   "source": [
    "# Import necessary libraries\n",
    "import requests                    # For sending HTTP requests to web pages\n",
    "from bs4 import BeautifulSoup      # For parsing HTML content\n",
    "import pandas as pd                # For storing data in tabular format (DataFrame)\n",
    "import random                      # For selecting random user-agents to avoid being blocked\n",
    "import time                        # (Optional) Can be used to slow down requests to avoid detection"
   ]
  },
  {
   "cell_type": "code",
   "execution_count": 31,
   "id": "2aaf9791-1191-4a8d-a041-bfd26b0c27e7",
   "metadata": {},
   "outputs": [],
   "source": [
    "# List of different user-agents (helps in mimicking browser behavior and reduces the chance of getting blocked)\n",
    "user_agents = [\n",
    "    \"Mozilla/5.0 (Windows NT 10.0; Win64; x64) AppleWebKit/537.36 (KHTML, like Gecko) Chrome/91.0.4472.124 Safari/537.36\",\n",
    "    \"Mozilla/5.0 (Macintosh; Intel Mac OS X 10_15_7) AppleWebKit/537.36 (KHTML, like Gecko) Chrome/91.0.4472.124 Safari/537.36\",\n",
    "    \"Mozilla/5.0 (X11; Linux x86_64) AppleWebKit/537.36 (KHTML, like Gecko) Chrome/91.0.4472.124 Safari/537.36\",\n",
    "]"
   ]
  },
  {
   "cell_type": "code",
   "execution_count": 33,
   "id": "38e9121e-52a3-4f34-9961-67ab8f04b189",
   "metadata": {},
   "outputs": [],
   "source": [
    "# Randomly select a user-agent for the request\n",
    "headers = { \"User-Agent\" : random.choice(user_agents),\n",
    "            \"Accept-Language\" : \"en-Us,en;q=0.9\" }"
   ]
  },
  {
   "cell_type": "code",
   "execution_count": 43,
   "id": "ad37bc78-6939-49fa-b7b6-7fc3f694b8af",
   "metadata": {},
   "outputs": [
    {
     "name": "stdout",
     "output_type": "stream",
     "text": [
      "Total number of records \n",
      " product name: 82 \n",
      " product price: 82 \n",
      " product rating: 82\n"
     ]
    }
   ],
   "source": [
    "# Lists to store scraped data\n",
    "product_name = []\n",
    "product_price = []\n",
    "product_rating = []\n",
    "\n",
    "# Loop through 3 pages of Amazon results (you can increase the range)\n",
    "for i in range(1,4):\n",
    "    url = f\"https://www.amazon.in/s?i=kitchen&bbn=81107433031&rh=n%3A81107433031%2Cp_85%3A10440599031&page={i}&_encoding=UTF8&content-id=amzn1.sym.58c90a12-100b-4a2f-8e15-7c06f1abe2be&pd_rd_r=eb705f4e-d34b-456d-a496-b52f6602d46b&pd_rd_w=hwFSy&pd_rd_wg=MVPlH&qid=1745483311&xpid=thnXwLcmHk4-q&ref=sr_pg_2\"\n",
    "    \n",
    "    # Send a GET request to fetch the HTML content of the search result page\n",
    "    response = requests.get(url, headers = headers)\n",
    "    soup = BeautifulSoup(response.content, 'html.parser')\n",
    "   \n",
    "    # Find all product links using the class names specific to Amazon layout\n",
    "    links = soup.find_all(\"a\", attrs={\"class\": \"a-link-normal s-line-clamp-4 s-link-style a-text-normal\"})\n",
    "\n",
    "    # Visit each product's individual page\n",
    "    for i, link in enumerate(links):\n",
    "        href = link.get('href')\n",
    "        product_link = \"https://www.amazon.in\" + href\n",
    "        #print(product_link)\n",
    "\n",
    "        # Send a GET request to fetch the product detail page\n",
    "        new_url = requests.get(product_link, headers = headers)\n",
    "        new_soup = BeautifulSoup(new_url.content, \"html.parser\")\n",
    "\n",
    "        # Extract product title, price, and rating (if available)\n",
    "        name = new_soup.find(\"span\", attrs={\"id\":\"productTitle\"})\n",
    "        price = new_soup.find(\"span\", attrs = {\"class\":\"a-price-whole\"})\n",
    "        rating = new_soup.find(\"span\", attrs = {\"class\":\"a-icon-alt\"})\n",
    "\n",
    "        # Clean and append the data to the respective lists\n",
    "        product_name.append(name.text.strip() if name else \"NA\")\n",
    "        product_price.append(price.text.strip().rstrip('.') if price else \"NA\")\n",
    "        product_rating.append(rating.text.strip() if rating else \"NA\")\n",
    "\n",
    "# Print summary of collected data\n",
    "print(f\"Total number of records \\n product name: {len(product_name)} \\n product price: {len(product_price)} \\n product rating: {len(product_rating)}\")"
   ]
  },
  {
   "cell_type": "code",
   "execution_count": 52,
   "id": "93a4f7a7-9a3d-4c17-89c8-3ee0df57df64",
   "metadata": {},
   "outputs": [
    {
     "name": "stdout",
     "output_type": "stream",
     "text": [
      "Scraping completed. Data saved to 'amazon_products_multiple_page.csv'\n"
     ]
    }
   ],
   "source": [
    "# Create a DataFrame using the scraped data\n",
    "data = {\n",
    "    \"product_name\": product_name,\n",
    "    \"price\": product_price,\n",
    "    \"ratings\": product_rating\n",
    "}\n",
    "df = pd.DataFrame(data)\n",
    "\n",
    "# Save the data to a CSV file\n",
    "df.to_csv(\"amazon_products_multiple_page.csv\", index=False)\n",
    "\n",
    "print(\"Scraping completed. Data saved to 'amazon_products_multiple_page.csv'\")"
   ]
  },
  {
   "cell_type": "code",
   "execution_count": 53,
   "id": "0b4eace2-7fe1-477e-85ca-df44ed20582d",
   "metadata": {},
   "outputs": [
    {
     "data": {
      "text/html": [
       "<div>\n",
       "<style scoped>\n",
       "    .dataframe tbody tr th:only-of-type {\n",
       "        vertical-align: middle;\n",
       "    }\n",
       "\n",
       "    .dataframe tbody tr th {\n",
       "        vertical-align: top;\n",
       "    }\n",
       "\n",
       "    .dataframe thead th {\n",
       "        text-align: right;\n",
       "    }\n",
       "</style>\n",
       "<table border=\"1\" class=\"dataframe\">\n",
       "  <thead>\n",
       "    <tr style=\"text-align: right;\">\n",
       "      <th></th>\n",
       "      <th>product_name</th>\n",
       "      <th>price</th>\n",
       "      <th>ratings</th>\n",
       "    </tr>\n",
       "  </thead>\n",
       "  <tbody>\n",
       "    <tr>\n",
       "      <th>0</th>\n",
       "      <td>Samsung 183 L, 4 Star, Digital Inverter, Direc...</td>\n",
       "      <td>16,390</td>\n",
       "      <td>4.3 out of 5 stars</td>\n",
       "    </tr>\n",
       "    <tr>\n",
       "      <th>1</th>\n",
       "      <td>Haier 165 L, 1 Star, Direct-Cool Single Door R...</td>\n",
       "      <td>10,990</td>\n",
       "      <td>3.9 out of 5 stars</td>\n",
       "    </tr>\n",
       "    <tr>\n",
       "      <th>2</th>\n",
       "      <td>Whirlpool 184 L 2 Star Direct-Cool Single Door...</td>\n",
       "      <td>12,190</td>\n",
       "      <td>4.0 out of 5 stars</td>\n",
       "    </tr>\n",
       "    <tr>\n",
       "      <th>3</th>\n",
       "      <td>Haier 190 L, 4 Star, Direct Cool Single Door R...</td>\n",
       "      <td>14,990</td>\n",
       "      <td>4.1 out of 5 stars</td>\n",
       "    </tr>\n",
       "    <tr>\n",
       "      <th>4</th>\n",
       "      <td>Godrej 180 L 2 Star Advanced Capillary Technol...</td>\n",
       "      <td>12,390</td>\n",
       "      <td>4.0 out of 5 stars</td>\n",
       "    </tr>\n",
       "  </tbody>\n",
       "</table>\n",
       "</div>"
      ],
      "text/plain": [
       "                                        product_name   price  \\\n",
       "0  Samsung 183 L, 4 Star, Digital Inverter, Direc...  16,390   \n",
       "1  Haier 165 L, 1 Star, Direct-Cool Single Door R...  10,990   \n",
       "2  Whirlpool 184 L 2 Star Direct-Cool Single Door...  12,190   \n",
       "3  Haier 190 L, 4 Star, Direct Cool Single Door R...  14,990   \n",
       "4  Godrej 180 L 2 Star Advanced Capillary Technol...  12,390   \n",
       "\n",
       "              ratings  \n",
       "0  4.3 out of 5 stars  \n",
       "1  3.9 out of 5 stars  \n",
       "2  4.0 out of 5 stars  \n",
       "3  4.1 out of 5 stars  \n",
       "4  4.0 out of 5 stars  "
      ]
     },
     "execution_count": 53,
     "metadata": {},
     "output_type": "execute_result"
    }
   ],
   "source": [
    "# Display first few rows (optional for debugging)\n",
    "df.head()"
   ]
  },
  {
   "cell_type": "code",
   "execution_count": null,
   "id": "b65a9504-b6a4-4f42-9a5f-e52b948f1ce0",
   "metadata": {},
   "outputs": [],
   "source": []
  }
 ],
 "metadata": {
  "kernelspec": {
   "display_name": "Python 3 (ipykernel)",
   "language": "python",
   "name": "python3"
  },
  "language_info": {
   "codemirror_mode": {
    "name": "ipython",
    "version": 3
   },
   "file_extension": ".py",
   "mimetype": "text/x-python",
   "name": "python",
   "nbconvert_exporter": "python",
   "pygments_lexer": "ipython3",
   "version": "3.12.4"
  }
 },
 "nbformat": 4,
 "nbformat_minor": 5
}
